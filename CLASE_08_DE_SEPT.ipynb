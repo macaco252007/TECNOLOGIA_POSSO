{
  "nbformat": 4,
  "nbformat_minor": 0,
  "metadata": {
    "colab": {
      "provenance": [],
      "collapsed_sections": []
    },
    "kernelspec": {
      "name": "python3",
      "display_name": "Python 3"
    },
    "language_info": {
      "name": "python"
    }
  },
  "cells": [
    {
      "cell_type": "markdown",
      "source": [
        "<center>\n",
        "\n",
        "#**COLEGIO SIGLO XXI - EL SOCORRO**\n",
        "#**PRESENTADO A:**  *ING. PAOLA ANDREA QUINTERO*\n",
        "#**PRESENTADO POR:**  *MARCO DAVID POSSO SÁNCHEZ*\n",
        "#**GRADO DÉCIMO**\n",
        "#**8 DE SEPTIEMBRE 2022**"
      ],
      "metadata": {
        "id": "W3cCEKuhrss_"
      }
    },
    {
      "cell_type": "markdown",
      "source": [
        "#**¿QUÉ ES PYTHON?**\n",
        "#  Python es un lenguaje de programación de alto nivel que se utiliza para desarrollar aplicaciones de todo tipo. A diferencia de otros lenguajes como Java o .NET, se trata de un lenguaje interpretado, es decir, que no es necesario compilarlo para ejecutar las aplicaciones escritas en Python, sino que se ejecutan directamente por el ordenador utilizando un programa denominado interpretador, por lo que no es necesario “traducirlo” a lenguaje máquina. \n",
        "\n",
        "#**FECHA DE LANZAMIENTO:**\n",
        "#Guido Van Rossum publicó la primera versión del código Python (versión 0.9.0) en 1991. Dicha versión ya incluía buenas características, como algunos tipos de datos y funciones para la gestión de errores.\n",
        "\n",
        "#**Recuperado de:** \n",
        "#*https://www.becas-santander.com/es/blog/python-que-es.html*\n",
        "#*https://aws.amazon.com/es/what-is/python/*\n",
        "\n"
      ],
      "metadata": {
        "id": "acSpLo1l0vSD"
      }
    },
    {
      "cell_type": "code",
      "source": [
        "print(\"Esto es una suma\")\n",
        "numero_uno = 4\n",
        "numero_dos = 8\n",
        "resultado = numero_uno + numero_dos\n",
        "print(resultado)"
      ],
      "metadata": {
        "colab": {
          "base_uri": "https://localhost:8080/"
        },
        "id": "DF1GkPoo3kDm",
        "outputId": "c6364a1a-6e7b-4f4b-d24f-a577982e9f8a"
      },
      "execution_count": null,
      "outputs": [
        {
          "output_type": "stream",
          "name": "stdout",
          "text": [
            "Esto es una\n",
            "12\n"
          ]
        }
      ]
    },
    {
      "cell_type": "markdown",
      "source": [],
      "metadata": {
        "id": "2ZT0w1v52EcY"
      }
    },
    {
      "cell_type": "code",
      "source": [
        "print(\"Esto es una resta\")\n",
        "numero_uno = 6\n",
        "numero_dos = 2\n",
        "resultado = numero_uno - numero_dos\n",
        "print(resultado)"
      ],
      "metadata": {
        "colab": {
          "base_uri": "https://localhost:8080/"
        },
        "id": "q9OkOKPQ4WCm",
        "outputId": "aaf93da4-6e29-4569-f4fc-5f240a522471"
      },
      "execution_count": null,
      "outputs": [
        {
          "output_type": "stream",
          "name": "stdout",
          "text": [
            "Esto es una resta\n",
            "-4\n"
          ]
        }
      ]
    },
    {
      "cell_type": "code",
      "source": [
        "print(\"Esto es una multiplicación\")\n",
        "numero_uno = 7\n",
        "numero_dos = 5\n",
        "resultado = numero_uno * numero_dos\n",
        "print(resultado)"
      ],
      "metadata": {
        "colab": {
          "base_uri": "https://localhost:8080/"
        },
        "id": "RpqJEURz4g1W",
        "outputId": "f09b943b-a37b-49c4-833e-ea15f4b3f90a"
      },
      "execution_count": null,
      "outputs": [
        {
          "output_type": "stream",
          "name": "stdout",
          "text": [
            "Esto es una multiplicación\n",
            "35\n"
          ]
        }
      ]
    },
    {
      "cell_type": "code",
      "source": [
        "print(\"Esto es una división\")\n",
        "numero_uno = 9\n",
        "numero_dos = 3\n",
        "resultado = numero_uno / numero_dos\n",
        "print(resultado)"
      ],
      "metadata": {
        "colab": {
          "base_uri": "https://localhost:8080/"
        },
        "id": "_jo-t6vP4u9t",
        "outputId": "9c841242-5cad-4718-b95c-62f49a27c314"
      },
      "execution_count": null,
      "outputs": [
        {
          "output_type": "stream",
          "name": "stdout",
          "text": [
            "Esto es una división\n",
            "3.0\n"
          ]
        }
      ]
    },
    {
      "cell_type": "markdown",
      "source": [
        "#Ejercicios de Tipos de Datos Simples"
      ],
      "metadata": {
        "id": "9v-NcRGp5M5k"
      }
    },
    {
      "cell_type": "markdown",
      "source": [
        "##Ejercicio 1\n",
        "\n",
        "Escribir un programa que pregunte el nombre del usuario en la consola y un número entero e imprima por pantallas en líneas distintas el nombre del usuario tantas veces como el número introducido."
      ],
      "metadata": {
        "id": "gFKk7cbSwPuS"
      }
    },
    {
      "cell_type": "code",
      "source": [
        "nombre = input(\"¿Como te llamas?\")\n",
        "n = input(\"Introduce un numero entero:\")\n",
        "print((nombre + \"\\n\")* int(n))"
      ],
      "metadata": {
        "colab": {
          "base_uri": "https://localhost:8080/"
        },
        "id": "70tBapxiw0HY",
        "outputId": "d2285f7c-7092-4299-e0a4-0949db8edd98"
      },
      "execution_count": null,
      "outputs": [
        {
          "output_type": "stream",
          "name": "stdout",
          "text": [
            "¿Como te llamas?Marco\n",
            "Introduce un numero entero:5\n",
            "Marco\n",
            "Marco\n",
            "Marco\n",
            "Marco\n",
            "Marco\n",
            "\n"
          ]
        }
      ]
    },
    {
      "cell_type": "markdown",
      "source": [
        "##Ejercicio 2\n",
        "Escribir un programa que pida al usuario du peso (en kg) y estatura (en metros), calcule el índice de masa corporal y lo almacene en una variable, e imprima por pantalla la frase `Tu índice de masa corporal es <imc>` donde `<imc>` es el índice de masa corporal calculado redondeando con dos decimales."
      ],
      "metadata": {
        "id": "zmF1yv_Q1XEM"
      }
    },
    {
      "cell_type": "code",
      "source": [
        "peso = input(\"¿Cuál es tu peso en kg?\")\n",
        "estatura = input(\"¿Cuál es tu estatura en metros?\")\n",
        "imc = round(float(peso)/float(estatura)**2,2)\n",
        "print(\"Tu índice de masa corporal es \" + str(imc))"
      ],
      "metadata": {
        "colab": {
          "base_uri": "https://localhost:8080/"
        },
        "id": "cssa8ck96IJE",
        "outputId": "fabe8679-b433-43c5-f390-b8785743507e"
      },
      "execution_count": null,
      "outputs": [
        {
          "output_type": "stream",
          "name": "stdout",
          "text": [
            "¿Cuál es tu peso en kg?113\n",
            "¿Cuál es tu estatura en metros?2.06\n",
            "Tu índice de masa corporal es 26.63\n"
          ]
        }
      ]
    },
    {
      "cell_type": "markdown",
      "source": [
        "#**LIBRERÍAS EN PYTHON**"
      ],
      "metadata": {
        "id": "n6vIyerU3Jcu"
      }
    }
  ]
}